{
 "cells": [
  {
   "cell_type": "code",
   "execution_count": 1,
   "id": "85cb84f8",
   "metadata": {},
   "outputs": [],
   "source": [
    "import numpy as np\n",
    "import tensorflow as tf\n",
    "import matplotlib.pyplot as plt\n",
    "from sklearn.metrics import classification_report, confusion_matrix, accuracy_score, recall_score\n",
    "from tensorflow.keras.preprocessing.image import ImageDataGenerator\n",
    "from tensorflow.keras.preprocessing.image import img_to_array, load_img"
   ]
  },
  {
   "cell_type": "code",
   "execution_count": 2,
   "id": "bb14105c",
   "metadata": {},
   "outputs": [],
   "source": [
    "IMAGE_SIZE = 256\n",
    "BATCH_SIZE = 32\n",
    "CHANNELS = 3\n",
    "EPOCHS = 25\n",
    "n_classes = 2\n",
    "INPUT_SHAPE = [BATCH_SIZE, IMAGE_SIZE, IMAGE_SIZE, CHANNELS]"
   ]
  },
  {
   "cell_type": "code",
   "execution_count": 3,
   "id": "c855821f",
   "metadata": {},
   "outputs": [],
   "source": [
    "train_datagen = ImageDataGenerator(rescale = 1./255,\n",
    "                                   shear_range = 0.2,\n",
    "                                   zoom_range = 0.2,\n",
    "                                   horizontal_flip = True)"
   ]
  },
  {
   "cell_type": "code",
   "execution_count": 4,
   "id": "a7663aa2",
   "metadata": {},
   "outputs": [
    {
     "name": "stdout",
     "output_type": "stream",
     "text": [
      "Found 2506 images belonging to 2 classes.\n"
     ]
    }
   ],
   "source": [
    "train = train_datagen.flow_from_directory('E:\\\\Datasets\\\\Kaggle DL\\\\CNN\\\\Chest X-Ray\\\\train',\n",
    "                                                 target_size = (IMAGE_SIZE, IMAGE_SIZE),\n",
    "                                                 batch_size = BATCH_SIZE,\n",
    "                                                 class_mode = 'binary')"
   ]
  },
  {
   "cell_type": "code",
   "execution_count": 5,
   "id": "4c1cb22e",
   "metadata": {},
   "outputs": [
    {
     "name": "stdout",
     "output_type": "stream",
     "text": [
      "Found 624 images belonging to 2 classes.\n"
     ]
    }
   ],
   "source": [
    "val_datagen = ImageDataGenerator(rescale = 1./255)\n",
    "\n",
    "val = val_datagen.flow_from_directory('E:\\\\Datasets\\\\Kaggle DL\\\\CNN\\\\Chest X-Ray\\\\val',\n",
    "                                            target_size = (IMAGE_SIZE, IMAGE_SIZE),\n",
    "                                            batch_size = BATCH_SIZE,\n",
    "                                            class_mode = 'binary')"
   ]
  },
  {
   "cell_type": "code",
   "execution_count": 6,
   "id": "9bdf0cd3",
   "metadata": {},
   "outputs": [
    {
     "name": "stdout",
     "output_type": "stream",
     "text": [
      "Found 316 images belonging to 2 classes.\n"
     ]
    }
   ],
   "source": [
    "test_datagen = ImageDataGenerator(rescale = 1./255)\n",
    "\n",
    "test = test_datagen.flow_from_directory('E:\\\\Datasets\\\\Kaggle DL\\\\CNN\\\\Chest X-Ray\\\\test',\n",
    "                                            target_size = (IMAGE_SIZE, IMAGE_SIZE),\n",
    "                                            batch_size = BATCH_SIZE,\n",
    "                                            class_mode = 'binary',\n",
    "                                            shuffle=False)\n",
    "\n"
   ]
  },
  {
   "cell_type": "code",
   "execution_count": 7,
   "id": "255fadf1",
   "metadata": {},
   "outputs": [
    {
     "data": {
      "text/plain": [
       "['NORMAL', 'PNEUMONIA']"
      ]
     },
     "execution_count": 7,
     "metadata": {},
     "output_type": "execute_result"
    }
   ],
   "source": [
    "labels = train.class_indices\n",
    "list(labels.keys())"
   ]
  },
  {
   "cell_type": "code",
   "execution_count": 8,
   "id": "04898f76",
   "metadata": {},
   "outputs": [
    {
     "name": "stdout",
     "output_type": "stream",
     "text": [
      "dict_items([(0, 1113), (1, 1393)])\n"
     ]
    }
   ],
   "source": [
    "# Get the counts for each class\n",
    "\n",
    "from collections import Counter\n",
    "cases_count = Counter(train.classes)\n",
    "print(cases_count.items())"
   ]
  },
  {
   "cell_type": "code",
   "execution_count": 9,
   "id": "969e2498",
   "metadata": {},
   "outputs": [
    {
     "name": "stdout",
     "output_type": "stream",
     "text": [
      "{0: 1.1257861635220126, 1: 0.8994974874371859}\n"
     ]
    }
   ],
   "source": [
    "# Weight class to balance the data\n",
    "\n",
    "total = cases_count[0] + cases_count[1]\n",
    "weight_for_0 = (1 / cases_count[0]) * (total / 2.0)\n",
    "weight_for_1 = (1 / cases_count[1]) * (total / 2.0)\n",
    "class_weight = {0: weight_for_0, 1: weight_for_1}\n",
    "print(class_weight)"
   ]
  },
  {
   "cell_type": "code",
   "execution_count": 10,
   "id": "8fa71e0b",
   "metadata": {},
   "outputs": [],
   "source": [
    "model = tf.keras.Sequential()\n",
    "\n",
    "model.add(tf.keras.layers.Conv2D(filters = 32, kernel_size = 3, activation = 'relu', input_shape = [IMAGE_SIZE, IMAGE_SIZE, CHANNELS]))\n",
    "model.add(tf.keras.layers.MaxPool2D(pool_size = 2, strides = 2))\n",
    "\n",
    "model.add(tf.keras.layers.Conv2D(filters = 64, kernel_size = 3, activation = 'relu'))\n",
    "model.add(tf.keras.layers.MaxPool2D(pool_size = 2, strides = 2))\n",
    "\n",
    "model.add(tf.keras.layers.Conv2D(filters = 64, kernel_size = 3, activation = 'relu'))\n",
    "model.add(tf.keras.layers.MaxPool2D(pool_size = 2, strides = 2))\n",
    "\n",
    "model.add(tf.keras.layers.Conv2D(filters = 64, kernel_size = 3, activation = 'relu'))\n",
    "model.add(tf.keras.layers.MaxPool2D(pool_size = 2, strides = 2))\n",
    "\n",
    "model.add(tf.keras.layers.Flatten())\n",
    "\n",
    "model.add(tf.keras.layers.Dense(units = 64, activation='relu'))\n",
    "\n",
    "model.add(tf.keras.layers.Dense(units=1, activation='sigmoid'))"
   ]
  },
  {
   "cell_type": "code",
   "execution_count": 11,
   "id": "ef09982b",
   "metadata": {},
   "outputs": [],
   "source": [
    "model.compile(optimizer = 'adam', loss = 'binary_crossentropy', metrics = ['accuracy'])"
   ]
  },
  {
   "cell_type": "code",
   "execution_count": 12,
   "id": "f56c3eb2",
   "metadata": {},
   "outputs": [
    {
     "name": "stdout",
     "output_type": "stream",
     "text": [
      "Model: \"sequential\"\n",
      "_________________________________________________________________\n",
      "Layer (type)                 Output Shape              Param #   \n",
      "=================================================================\n",
      "conv2d (Conv2D)              (None, 254, 254, 32)      896       \n",
      "_________________________________________________________________\n",
      "max_pooling2d (MaxPooling2D) (None, 127, 127, 32)      0         \n",
      "_________________________________________________________________\n",
      "conv2d_1 (Conv2D)            (None, 125, 125, 64)      18496     \n",
      "_________________________________________________________________\n",
      "max_pooling2d_1 (MaxPooling2 (None, 62, 62, 64)        0         \n",
      "_________________________________________________________________\n",
      "conv2d_2 (Conv2D)            (None, 60, 60, 64)        36928     \n",
      "_________________________________________________________________\n",
      "max_pooling2d_2 (MaxPooling2 (None, 30, 30, 64)        0         \n",
      "_________________________________________________________________\n",
      "conv2d_3 (Conv2D)            (None, 28, 28, 64)        36928     \n",
      "_________________________________________________________________\n",
      "max_pooling2d_3 (MaxPooling2 (None, 14, 14, 64)        0         \n",
      "_________________________________________________________________\n",
      "flatten (Flatten)            (None, 12544)             0         \n",
      "_________________________________________________________________\n",
      "dense (Dense)                (None, 64)                802880    \n",
      "_________________________________________________________________\n",
      "dense_1 (Dense)              (None, 1)                 65        \n",
      "=================================================================\n",
      "Total params: 896,193\n",
      "Trainable params: 896,193\n",
      "Non-trainable params: 0\n",
      "_________________________________________________________________\n"
     ]
    }
   ],
   "source": [
    "model.summary()"
   ]
  },
  {
   "cell_type": "code",
   "execution_count": 13,
   "id": "9a665744",
   "metadata": {},
   "outputs": [
    {
     "name": "stdout",
     "output_type": "stream",
     "text": [
      "WARNING:tensorflow:From D:\\Users\\SlimShady\\Anaconda3\\envs\\tensorgpu\\lib\\site-packages\\tensorflow\\python\\ops\\array_ops.py:5043: calling gather (from tensorflow.python.ops.array_ops) with validate_indices is deprecated and will be removed in a future version.\n",
      "Instructions for updating:\n",
      "The `validate_indices` argument has no effect. Indices are always validated on CPU and never validated on GPU.\n",
      "Epoch 1/25\n",
      "79/79 [==============================] - 146s 1s/step - loss: 0.4917 - accuracy: 0.7386 - val_loss: 0.3714 - val_accuracy: 0.8622\n",
      "Epoch 2/25\n",
      "79/79 [==============================] - 67s 852ms/step - loss: 0.3197 - accuracy: 0.8823 - val_loss: 0.2702 - val_accuracy: 0.8766\n",
      "Epoch 3/25\n",
      "79/79 [==============================] - 53s 677ms/step - loss: 0.2863 - accuracy: 0.8879 - val_loss: 0.2464 - val_accuracy: 0.8990\n",
      "Epoch 4/25\n",
      "79/79 [==============================] - 54s 677ms/step - loss: 0.2477 - accuracy: 0.9086 - val_loss: 0.2073 - val_accuracy: 0.9247\n",
      "Epoch 5/25\n",
      "79/79 [==============================] - 55s 701ms/step - loss: 0.2372 - accuracy: 0.9166 - val_loss: 0.2199 - val_accuracy: 0.9167\n",
      "Epoch 6/25\n",
      "79/79 [==============================] - 60s 760ms/step - loss: 0.2489 - accuracy: 0.9058 - val_loss: 0.1958 - val_accuracy: 0.9295\n",
      "Epoch 7/25\n",
      "79/79 [==============================] - 59s 744ms/step - loss: 0.2201 - accuracy: 0.9174 - val_loss: 0.1939 - val_accuracy: 0.9231\n",
      "Epoch 8/25\n",
      "79/79 [==============================] - 53s 666ms/step - loss: 0.2214 - accuracy: 0.9130 - val_loss: 0.1713 - val_accuracy: 0.9375\n",
      "Epoch 9/25\n",
      "79/79 [==============================] - 54s 678ms/step - loss: 0.1957 - accuracy: 0.9262 - val_loss: 0.2309 - val_accuracy: 0.9295\n",
      "Epoch 10/25\n",
      "79/79 [==============================] - 83s 1s/step - loss: 0.2072 - accuracy: 0.9218 - val_loss: 0.1890 - val_accuracy: 0.9327\n",
      "Epoch 11/25\n",
      "79/79 [==============================] - 89s 1s/step - loss: 0.1767 - accuracy: 0.9334 - val_loss: 0.2131 - val_accuracy: 0.9279\n",
      "Epoch 12/25\n",
      "79/79 [==============================] - 78s 984ms/step - loss: 0.1828 - accuracy: 0.9322 - val_loss: 0.2171 - val_accuracy: 0.9263\n",
      "Epoch 13/25\n",
      "79/79 [==============================] - 79s 996ms/step - loss: 0.1809 - accuracy: 0.9385 - val_loss: 0.1586 - val_accuracy: 0.9391\n",
      "Epoch 14/25\n",
      "79/79 [==============================] - 73s 923ms/step - loss: 0.1755 - accuracy: 0.9370 - val_loss: 0.2173 - val_accuracy: 0.9327\n",
      "Epoch 15/25\n",
      "79/79 [==============================] - 67s 852ms/step - loss: 0.1659 - accuracy: 0.9381 - val_loss: 0.1888 - val_accuracy: 0.9295\n",
      "Epoch 16/25\n",
      "79/79 [==============================] - 59s 742ms/step - loss: 0.1671 - accuracy: 0.9425 - val_loss: 0.1669 - val_accuracy: 0.9423\n",
      "Epoch 17/25\n",
      "79/79 [==============================] - 55s 699ms/step - loss: 0.1610 - accuracy: 0.9401 - val_loss: 0.1860 - val_accuracy: 0.9327\n",
      "Epoch 18/25\n",
      "79/79 [==============================] - 54s 685ms/step - loss: 0.1544 - accuracy: 0.9445 - val_loss: 0.1531 - val_accuracy: 0.9455\n",
      "Epoch 19/25\n",
      "79/79 [==============================] - 55s 702ms/step - loss: 0.1591 - accuracy: 0.9401 - val_loss: 0.1747 - val_accuracy: 0.9391\n",
      "Epoch 20/25\n",
      "79/79 [==============================] - 53s 675ms/step - loss: 0.1453 - accuracy: 0.9469 - val_loss: 0.1436 - val_accuracy: 0.9471\n",
      "Epoch 21/25\n",
      "79/79 [==============================] - 53s 676ms/step - loss: 0.1537 - accuracy: 0.9433 - val_loss: 0.1774 - val_accuracy: 0.9311\n",
      "Epoch 22/25\n",
      "79/79 [==============================] - 53s 673ms/step - loss: 0.1675 - accuracy: 0.9405 - val_loss: 0.1601 - val_accuracy: 0.9535\n",
      "Epoch 23/25\n",
      "79/79 [==============================] - 53s 667ms/step - loss: 0.1340 - accuracy: 0.9485 - val_loss: 0.1430 - val_accuracy: 0.9519\n",
      "Epoch 24/25\n",
      "79/79 [==============================] - 53s 670ms/step - loss: 0.1386 - accuracy: 0.9501 - val_loss: 0.1506 - val_accuracy: 0.9439\n",
      "Epoch 25/25\n",
      "79/79 [==============================] - 53s 667ms/step - loss: 0.1287 - accuracy: 0.9545 - val_loss: 0.2320 - val_accuracy: 0.9279\n"
     ]
    }
   ],
   "source": [
    "runtime = model.fit(train, \n",
    "                    validation_data = val, \n",
    "                    epochs = 25,\n",
    "                    class_weight = class_weight,\n",
    "                    batch_size = BATCH_SIZE)"
   ]
  },
  {
   "cell_type": "code",
   "execution_count": 14,
   "id": "3a68f65d",
   "metadata": {},
   "outputs": [
    {
     "name": "stdout",
     "output_type": "stream",
     "text": [
      "10/10 [==============================] - 6s 610ms/step - loss: 0.2235 - accuracy: 0.9335\n"
     ]
    }
   ],
   "source": [
    "scores = model.evaluate(test)"
   ]
  },
  {
   "cell_type": "code",
   "execution_count": 15,
   "id": "77602c7d",
   "metadata": {},
   "outputs": [
    {
     "data": {
      "text/plain": [
       "[0.2235119491815567, 0.9335442781448364]"
      ]
     },
     "execution_count": 15,
     "metadata": {},
     "output_type": "execute_result"
    }
   ],
   "source": [
    "scores"
   ]
  },
  {
   "cell_type": "code",
   "execution_count": 16,
   "id": "9e619e12",
   "metadata": {},
   "outputs": [],
   "source": [
    "acc = runtime.history['accuracy']\n",
    "val_acc = runtime.history['val_accuracy']\n",
    "\n",
    "loss = runtime.history['loss']\n",
    "val_loss = runtime.history['val_loss']"
   ]
  },
  {
   "cell_type": "code",
   "execution_count": 17,
   "id": "080260fd",
   "metadata": {},
   "outputs": [
    {
     "data": {
      "text/plain": [
       "Text(0.5, 1.0, 'Training and Validation Loss')"
      ]
     },
     "execution_count": 17,
     "metadata": {},
     "output_type": "execute_result"
    },
    {
     "data": {
      "image/png": "[encoded data removed]",
      "text/plain": [
       "<Figure size 576x576 with 2 Axes>"
      ]
     },
     "metadata": {
      "needs_background": "light"
     },
     "output_type": "display_data"
    }
   ],
   "source": [
    "plt.figure(figsize = (8,8))\n",
    "plt.subplot(1,2,1)\n",
    "plt.plot(range(EPOCHS), acc, label = 'Training Accuracy')\n",
    "plt.plot(range(EPOCHS), val_acc, label = 'Validation Accuracy')\n",
    "plt.legend(loc = 'lower right')\n",
    "plt.title('Training and Validation Accuracy')\n",
    "\n",
    "\n",
    "plt.subplot(1,2,2)\n",
    "plt.plot(range(EPOCHS), loss, label = 'Training Loss')\n",
    "plt.plot(range(EPOCHS), val_loss, label = 'Validation Loss')\n",
    "plt.legend(loc = 'lower right')\n",
    "plt.title('Training and Validation Loss')"
   ]
  },
  {
   "cell_type": "code",
   "execution_count": 18,
   "id": "b6b2e1cd",
   "metadata": {},
   "outputs": [],
   "source": [
    "# Classification report & Confusion Matrix\n",
    "\n",
    "preds = np.round(model.predict(test),0)"
   ]
  },
  {
   "cell_type": "code",
   "execution_count": 19,
   "id": "cf36059b",
   "metadata": {},
   "outputs": [],
   "source": [
    "gt_class = test.classes\n",
    "gt_labels = list(test.class_indices.keys())"
   ]
  },
  {
   "cell_type": "code",
   "execution_count": 20,
   "id": "5173a8a0",
   "metadata": {},
   "outputs": [
    {
     "name": "stdout",
     "output_type": "stream",
     "text": [
      "[[157   1]\n",
      " [ 20 138]]\n",
      "The cnn model has an accuracy score of 93.35 and recall score of 87.34 for PNEUMONIA\n"
     ]
    }
   ],
   "source": [
    "cm = confusion_matrix(gt_class, preds)\n",
    "print(cm)\n",
    "print('The cnn model has an accuracy score of {:.2f} and recall score of {:.2f} for {:s}'.format((accuracy_score(gt_class, preds) *100),(recall_score(gt_class, preds) *100),gt_labels[1]))"
   ]
  },
  {
   "cell_type": "code",
   "execution_count": 21,
   "id": "fe67d3e7",
   "metadata": {},
   "outputs": [
    {
     "name": "stdout",
     "output_type": "stream",
     "text": [
      "              precision    recall  f1-score   support\n",
      "\n",
      "      NORMAL       0.89      0.99      0.94       158\n",
      "   PNEUMONIA       0.99      0.87      0.93       158\n",
      "\n",
      "    accuracy                           0.93       316\n",
      "   macro avg       0.94      0.93      0.93       316\n",
      "weighted avg       0.94      0.93      0.93       316\n",
      "\n"
     ]
    }
   ],
   "source": [
    "report = classification_report(gt_class, preds, target_names=gt_labels)\n",
    "print(report)"
   ]
  },
  {
   "cell_type": "code",
   "execution_count": 22,
   "id": "91a11cce",
   "metadata": {},
   "outputs": [],
   "source": [
    "model.save('../models/chest_x_ray_pneumonia_detection.h5')"
   ]
  }
 ],
 "metadata": {
  "kernelspec": {
   "display_name": "Python 3 (ipykernel)",
   "language": "python",
   "name": "python3"
  },
  "language_info": {
   "codemirror_mode": {
    "name": "ipython",
    "version": 3
   },
   "file_extension": ".py",
   "mimetype": "text/x-python",
   "name": "python",
   "nbconvert_exporter": "python",
   "pygments_lexer": "ipython3",
   "version": "3.9.7"
  }
 },
 "nbformat": 4,
 "nbformat_minor": 5
}
